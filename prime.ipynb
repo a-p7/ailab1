{
 "cells": [
  {
   "cell_type": "markdown",
   "id": "c615757c",
   "metadata": {},
   "source": [
    " ## Check if a number is prime."
   ]
  },
  {
   "cell_type": "code",
   "execution_count": 2,
   "id": "828c4da6",
   "metadata": {},
   "outputs": [],
   "source": [
    "def is_prime(num):\n",
    "   \n",
    "    if num < 2:\n",
    "        return False\n",
    "    for i in range(2, int(num**0.5) + 1):\n",
    "        if num % i == 0:\n",
    "            return False\n",
    "    return True\n",
    "\n"
   ]
  },
  {
   "cell_type": "markdown",
   "id": "9b220901",
   "metadata": {},
   "source": [
    "##   Find prime numbers within a given range."
   ]
  },
  {
   "cell_type": "code",
   "execution_count": 3,
   "id": "2a364601",
   "metadata": {},
   "outputs": [],
   "source": [
    "def find_primes_in_range(start, end):\n",
    "\n",
    "    primes = []\n",
    "    for number in range(start, end + 1):\n",
    "        if is_prime(number):\n",
    "            primes.append(number)\n",
    "    return primes\n",
    "\n",
    "\n"
   ]
  },
  {
   "cell_type": "markdown",
   "id": "cb3915fc",
   "metadata": {},
   "source": [
    "# Input the range from the user\n"
   ]
  },
  {
   "cell_type": "code",
   "execution_count": 4,
   "id": "9cfe6690",
   "metadata": {},
   "outputs": [
    {
     "name": "stdout",
     "output_type": "stream",
     "text": [
      "Enter the starting range: 1\n",
      "Enter the ending range: 20\n"
     ]
    }
   ],
   "source": [
    "start_range = int(input(\"Enter the starting range: \"))\n",
    "end_range = int(input(\"Enter the ending range: \"))\n"
   ]
  },
  {
   "cell_type": "markdown",
   "id": "4f7f9ed8",
   "metadata": {},
   "source": [
    "# Call the function to find prime numbers in the given range"
   ]
  },
  {
   "cell_type": "code",
   "execution_count": 5,
   "id": "165ec7ef",
   "metadata": {},
   "outputs": [],
   "source": [
    "\n",
    "\n",
    "result = find_primes_in_range(start_range, end_range)\n"
   ]
  },
  {
   "cell_type": "markdown",
   "id": "f7918593",
   "metadata": {},
   "source": [
    "# Display the result\n"
   ]
  },
  {
   "cell_type": "code",
   "execution_count": 6,
   "id": "97ac5bb4",
   "metadata": {},
   "outputs": [
    {
     "name": "stdout",
     "output_type": "stream",
     "text": [
      "Prime numbers between 1 and 20: [2, 3, 5, 7, 11, 13, 17, 19]\n"
     ]
    }
   ],
   "source": [
    "\n",
    "print(f\"Prime numbers between {start_range} and {end_range}: {result}\")"
   ]
  },
  {
   "cell_type": "code",
   "execution_count": null,
   "id": "e172fd14",
   "metadata": {},
   "outputs": [],
   "source": []
  }
 ],
 "metadata": {
  "kernelspec": {
   "display_name": "Python 3 (ipykernel)",
   "language": "python",
   "name": "python3"
  },
  "language_info": {
   "codemirror_mode": {
    "name": "ipython",
    "version": 3
   },
   "file_extension": ".py",
   "mimetype": "text/x-python",
   "name": "python",
   "nbconvert_exporter": "python",
   "pygments_lexer": "ipython3",
   "version": "3.11.5"
  }
 },
 "nbformat": 4,
 "nbformat_minor": 5
}
