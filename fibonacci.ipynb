{
 "cells": [
  {
   "cell_type": "markdown",
   "id": "02ad778d",
   "metadata": {},
   "source": [
    "# Write a program to generate the Fibonacci sequence of a given number."
   ]
  },
  {
   "cell_type": "code",
   "execution_count": 2,
   "id": "b90869b7",
   "metadata": {},
   "outputs": [],
   "source": [
    "def generate_fibonacci(n):\n",
    "    fibonacci_sequence = [0, 1]\n",
    "\n",
    "    while fibonacci_sequence[-1] + fibonacci_sequence[-2] <= n:\n",
    "        next_term = fibonacci_sequence[-1] + fibonacci_sequence[-2]\n",
    "        fibonacci_sequence.append(next_term)\n",
    "\n",
    "    return fibonacci_sequence"
   ]
  },
  {
   "cell_type": "code",
   "execution_count": 3,
   "id": "3658c5d3",
   "metadata": {},
   "outputs": [
    {
     "name": "stdout",
     "output_type": "stream",
     "text": [
      "Enter the maximum number for Fibonacci sequence: 25\n"
     ]
    }
   ],
   "source": [
    "max_number = int(input(\"Enter the maximum number for Fibonacci sequence: \"))\n"
   ]
  },
  {
   "cell_type": "code",
   "execution_count": 4,
   "id": "f6c9e4f8",
   "metadata": {},
   "outputs": [],
   "source": [
    "fibonacci_sequence = generate_fibonacci(max_number)\n"
   ]
  },
  {
   "cell_type": "code",
   "execution_count": 5,
   "id": "cba954da",
   "metadata": {},
   "outputs": [
    {
     "name": "stdout",
     "output_type": "stream",
     "text": [
      "Fibonacci sequence up to 25: [0, 1, 1, 2, 3, 5, 8, 13, 21]\n"
     ]
    }
   ],
   "source": [
    "print(f\"Fibonacci sequence up to {max_number}: {fibonacci_sequence}\")"
   ]
  },
  {
   "cell_type": "code",
   "execution_count": null,
   "id": "7e9a3d75",
   "metadata": {},
   "outputs": [],
   "source": []
  }
 ],
 "metadata": {
  "kernelspec": {
   "display_name": "Python 3 (ipykernel)",
   "language": "python",
   "name": "python3"
  },
  "language_info": {
   "codemirror_mode": {
    "name": "ipython",
    "version": 3
   },
   "file_extension": ".py",
   "mimetype": "text/x-python",
   "name": "python",
   "nbconvert_exporter": "python",
   "pygments_lexer": "ipython3",
   "version": "3.11.5"
  }
 },
 "nbformat": 4,
 "nbformat_minor": 5
}
