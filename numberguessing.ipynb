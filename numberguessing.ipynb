{
 "cells": [
  {
   "cell_type": "code",
   "execution_count": 5,
   "id": "11d840aa",
   "metadata": {},
   "outputs": [],
   "source": [
    "import random\n"
   ]
  },
  {
   "cell_type": "code",
   "execution_count": 6,
   "id": "fd7dfec1",
   "metadata": {},
   "outputs": [],
   "source": [
    "def number_guessing_game():\n",
    "    print(\"Welcome to the Number Guessing Game!\")\n",
    "    print(\"I have chosen a number between 1 and 100. Try to guess it!\")"
   ]
  },
  {
   "cell_type": "code",
   "execution_count": 7,
   "id": "1d239c9a",
   "metadata": {},
   "outputs": [],
   "source": [
    "secret_number = random.randint(1, 100)"
   ]
  },
  {
   "cell_type": "code",
   "execution_count": 10,
   "id": "00da8dfb",
   "metadata": {},
   "outputs": [
    {
     "name": "stdout",
     "output_type": "stream",
     "text": [
      "Enter your guess: 5\n",
      "Too low! Try a higher number.\n",
      "Enter your guess: 6\n",
      "Too low! Try a higher number.\n",
      "Enter your guess: 36\n",
      "Too low! Try a higher number.\n",
      "Enter your guess: 55\n",
      "Too low! Try a higher number.\n",
      "Enter your guess: 96\n",
      "Too high! Try a lower number.\n",
      "Enter your guess: 85\n",
      "Too low! Try a higher number.\n",
      "Enter your guess: 87\n",
      "Too low! Try a higher number.\n",
      "Enter your guess: 89\n",
      "Too low! Try a higher number.\n",
      "Enter your guess: 90\n",
      "Too low! Try a higher number.\n",
      "Enter your guess: 91\n",
      "Too low! Try a higher number.\n",
      "Enter your guess: 92\n",
      "Congratulations! You guessed the correct number 92 in 11 attempts.\n"
     ]
    }
   ],
   "source": [
    "    attempts = 0\n",
    "    while True:\n",
    "        user_guess = int(input(\"Enter your guess: \"))\n",
    "        attempts += 1\n",
    "\n",
    "        if user_guess == secret_number:\n",
    "            print(f\"Congratulations! You guessed the correct number {secret_number} in {attempts} attempts.\")\n",
    "            break\n",
    "        elif user_guess < secret_number:\n",
    "            print(\"Too low! Try a higher number.\")\n",
    "        else:\n",
    "            print(\"Too high! Try a lower number.\")\n",
    "\n",
    "\n"
   ]
  },
  {
   "cell_type": "code",
   "execution_count": null,
   "id": "37fcc0b8",
   "metadata": {},
   "outputs": [],
   "source": [
    "number_guessing_game()"
   ]
  },
  {
   "cell_type": "code",
   "execution_count": null,
   "id": "36d0fcbd",
   "metadata": {},
   "outputs": [],
   "source": []
  },
  {
   "cell_type": "code",
   "execution_count": null,
   "id": "3942f2e4",
   "metadata": {},
   "outputs": [],
   "source": []
  },
  {
   "cell_type": "code",
   "execution_count": null,
   "id": "c6ca027a",
   "metadata": {},
   "outputs": [],
   "source": []
  }
 ],
 "metadata": {
  "kernelspec": {
   "display_name": "Python 3 (ipykernel)",
   "language": "python",
   "name": "python3"
  },
  "language_info": {
   "codemirror_mode": {
    "name": "ipython",
    "version": 3
   },
   "file_extension": ".py",
   "mimetype": "text/x-python",
   "name": "python",
   "nbconvert_exporter": "python",
   "pygments_lexer": "ipython3",
   "version": "3.11.5"
  }
 },
 "nbformat": 4,
 "nbformat_minor": 5
}
