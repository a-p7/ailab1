{
 "cells": [
  {
   "cell_type": "markdown",
   "id": "d16b112a",
   "metadata": {},
   "source": [
    "# Write a program to check palindrome."
   ]
  },
  {
   "cell_type": "code",
   "execution_count": null,
   "id": "d79674b5",
   "metadata": {},
   "outputs": [],
   "source": [
    "## Check if a string is a palindrome\n"
   ]
  },
  {
   "cell_type": "code",
   "execution_count": 1,
   "id": "690389e4",
   "metadata": {},
   "outputs": [],
   "source": [
    "def is_palindrome(s):\n",
    "    s = s.lower()  # Convert the string to lowercase for case-insensitive comparison\n",
    "    s = ''.join(c for c in s if c.isalnum())  # Remove non-alphanumeric characters\n",
    "    return s == s[::-1]"
   ]
  },
  {
   "cell_type": "code",
   "execution_count": 2,
   "id": "3bb4be33",
   "metadata": {},
   "outputs": [
    {
     "name": "stdout",
     "output_type": "stream",
     "text": [
      "Enter a string to check if it's a palindrome: rur\n"
     ]
    }
   ],
   "source": [
    "user_input = input(\"Enter a string to check if it's a palindrome: \")"
   ]
  },
  {
   "cell_type": "code",
   "execution_count": 3,
   "id": "2a9209ce",
   "metadata": {},
   "outputs": [
    {
     "name": "stdout",
     "output_type": "stream",
     "text": [
      "rur is a palindrome.\n"
     ]
    }
   ],
   "source": [
    "if is_palindrome(user_input):\n",
    "    print(f\"{user_input} is a palindrome.\")\n",
    "else:\n",
    "    print(f\"{user_input} is not a palindrome.\")"
   ]
  },
  {
   "cell_type": "code",
   "execution_count": null,
   "id": "dc5c48cf",
   "metadata": {},
   "outputs": [],
   "source": []
  }
 ],
 "metadata": {
  "kernelspec": {
   "display_name": "Python 3 (ipykernel)",
   "language": "python",
   "name": "python3"
  },
  "language_info": {
   "codemirror_mode": {
    "name": "ipython",
    "version": 3
   },
   "file_extension": ".py",
   "mimetype": "text/x-python",
   "name": "python",
   "nbconvert_exporter": "python",
   "pygments_lexer": "ipython3",
   "version": "3.11.5"
  }
 },
 "nbformat": 4,
 "nbformat_minor": 5
}
